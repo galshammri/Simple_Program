{
  "nbformat": 4,
  "nbformat_minor": 0,
  "metadata": {
    "colab": {
      "name": "First_Pro.ipynb",
      "provenance": [],
      "collapsed_sections": []
    },
    "kernelspec": {
      "name": "python3",
      "display_name": "Python 3"
    }
  },
  "cells": [
    {
      "cell_type": "code",
      "metadata": {
        "id": "ek18HYF_QeaM",
        "outputId": "3aacdc12-4a6a-4fdd-e4a2-e80bdf6cc1ff",
        "colab": {
          "base_uri": "https://localhost:8080/"
        }
      },
      "source": [
        "print(\"Welcome to Data Science and Big Data Bootcamp !!!\")"
      ],
      "execution_count": 1,
      "outputs": [
        {
          "output_type": "stream",
          "text": [
            "Welcome to Data Science and Big Data Bootcamp !!!\n"
          ],
          "name": "stdout"
        }
      ]
    }
  ]
}